{
 "cells": [
  {
   "cell_type": "code",
   "execution_count": 3,
   "id": "f6f7545f",
   "metadata": {},
   "outputs": [],
   "source": [
    "import numpy as np\n",
    "import matplotlib.pyplot as plt\n",
    "import math\n",
    "\n",
    "DT = 0.05\n",
    "DX = 1\n",
    "DH = 2.5\n",
    "q = 1.5\n",
    "por = 0.3\n",
    "v= q/por\n",
    "D= DH/por\n",
    "\n",
    "L = x=50 #x=L in numerical solutions\n",
    "Tmax = 5\n",
    "N = int(L / DX) + 1\n",
    "\n",
    "Cf = 100.0\n",
    "Cb = 0.0\n",
    "Ci = 0.0\n",
    "\n",
    "\n",
    "node_locations = np.arange(0, L + DX, DX)\n",
    "#print(node_locations)\n",
    "number_timesteps = int(Tmax / DT)\n",
    "#print(number_timesteps)\n",
    "time_increments = np.arange(DT, Tmax + DT, DT)\n",
    "#print(time_increments)\n",
    "\n",
    "Cold_analytic = np.zeros(N) * Ci\n",
    "Cnew_analytic = np.zeros(N)\n",
    "#print(Cold_analytic)\n",
    "Cold_analytic[0] = Cf\n",
    "#print(Cnew_analytic)\n",
    "Cnew_analytic=Cold_analytic\n",
    "#print(Cnew_analytic)\n",
    "\n",
    "NPRINT = 0\n",
    "\n",
    "itime = 1\n",
    "for i in np.arange(DT, Tmax + DT, DT):\n",
    "    Cnew_analytic[0] = Cf\n",
    "    Cnew_analytic[50] = Cb\n",
    "    NPRINT += 1\n",
    "    itime += 1\n",
    "       \n",
    "    for k in np.arange(1,N-2,DX):\n",
    "\n",
    "        Cnew_analytic[k]=(Cold_analytic[k]/2)*((math.erfc((x-v*i)/(2*math.sqrt(D*i))))+(math.exp((v*x)/D)*math.erfc((x+v*i)/(2*math.sqrt(D*i)))))\n",
    "                        \n",
    "#print(Cnew_analytic)"
   ]
  },
  {
   "cell_type": "code",
   "execution_count": null,
   "id": "fb42b10f",
   "metadata": {},
   "outputs": [],
   "source": []
  }
 ],
 "metadata": {
  "kernelspec": {
   "display_name": "Python 3 (ipykernel)",
   "language": "python",
   "name": "python3"
  },
  "language_info": {
   "codemirror_mode": {
    "name": "ipython",
    "version": 3
   },
   "file_extension": ".py",
   "mimetype": "text/x-python",
   "name": "python",
   "nbconvert_exporter": "python",
   "pygments_lexer": "ipython3",
   "version": "3.9.13"
  }
 },
 "nbformat": 4,
 "nbformat_minor": 5
}
